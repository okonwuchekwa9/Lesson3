{
 "cells": [
  {
   "cell_type": "markdown",
   "metadata": {},
   "source": [
    "Conditional Statements: We will make choices using conditional statements; if, elif, else and Boolean value: True and False"
   ]
  },
  {
   "cell_type": "code",
   "execution_count": 1,
   "metadata": {},
   "outputs": [
    {
     "name": "stdout",
     "output_type": "stream",
     "text": [
      "it is not hot\n"
     ]
    }
   ],
   "source": [
    "temperature = 17\n",
    "if temperature > 25:\n",
    "    print('it is hot')\n",
    "else:\n",
    "    print('it is not hot')"
   ]
  },
  {
   "cell_type": "code",
   "execution_count": 5,
   "metadata": {},
   "outputs": [
    {
     "name": "stdout",
     "output_type": "stream",
     "text": [
      "it is hot\n"
     ]
    }
   ],
   "source": [
    "temperature = 26\n",
    "if temperature > 25:\n",
    "    print('it is hot')\n",
    "else:\n",
    "    print('it is not hot')"
   ]
  },
  {
   "cell_type": "code",
   "execution_count": 6,
   "metadata": {},
   "outputs": [],
   "source": [
    "temperature = 17\n",
    "if temperature > 25:\n",
    "    print('it is hot')"
   ]
  },
  {
   "cell_type": "code",
   "execution_count": 7,
   "metadata": {},
   "outputs": [
    {
     "name": "stdout",
     "output_type": "stream",
     "text": [
      "it is hot\n"
     ]
    }
   ],
   "source": [
    "temperature = 30\n",
    "if temperature > 25:\n",
    "    print('it is hot')"
   ]
  },
  {
   "cell_type": "code",
   "execution_count": 9,
   "metadata": {},
   "outputs": [
    {
     "name": "stdout",
     "output_type": "stream",
     "text": [
      "wear raincoat\n"
     ]
    }
   ],
   "source": [
    "weather = 'rain'\n",
    "if weather == 'rain':\n",
    "    print('wear raincoat')\n",
    "else:\n",
    "    print('No rain coat needed')"
   ]
  },
  {
   "cell_type": "code",
   "execution_count": 10,
   "metadata": {},
   "outputs": [
    {
     "name": "stdout",
     "output_type": "stream",
     "text": [
      "No rain coat needed\n"
     ]
    }
   ],
   "source": [
    "weather = 'sun'\n",
    "if weather == 'rain':\n",
    "    print('wear raincoat')\n",
    "else:\n",
    "    print('No rain coat needed')"
   ]
  },
  {
   "cell_type": "code",
   "execution_count": 11,
   "metadata": {},
   "outputs": [
    {
     "name": "stdout",
     "output_type": "stream",
     "text": [
      "wear raincoat\n",
      "wear rain boots\n"
     ]
    }
   ],
   "source": [
    "weather = 'rain'\n",
    "if weather == 'rain':\n",
    "    print('wear raincoat')\n",
    "    print('wear rain boots')\n",
    "else:\n",
    "    print('No rain coat needed')\n",
    "    print('No rain boots needed')"
   ]
  },
  {
   "cell_type": "markdown",
   "metadata": {},
   "source": [
    "Comparison Operators: Comparison operators such as > and == compare the values on each side of the operator."
   ]
  },
  {
   "cell_type": "markdown",
   "metadata": {},
   "source": [
    "Here is a full list of the operators used for value comparisons in Python:\n",
    "Operator   Description\n",
    "<           Less than\n",
    "<=          Less than or equal to\n",
    "==          Equal to\n",
    ">=          Greater than or equal to\n",
    ">           Greater than\n",
    "!=          Not eaual to"
   ]
  },
  {
   "cell_type": "markdown",
   "metadata": {},
   "source": [
    "Boolean Values"
   ]
  },
  {
   "cell_type": "code",
   "execution_count": 15,
   "metadata": {},
   "outputs": [
    {
     "data": {
      "text/plain": [
       "30"
      ]
     },
     "execution_count": 15,
     "metadata": {},
     "output_type": "execute_result"
    }
   ],
   "source": [
    "temperature"
   ]
  },
  {
   "cell_type": "code",
   "execution_count": 16,
   "metadata": {},
   "outputs": [
    {
     "data": {
      "text/plain": [
       "True"
      ]
     },
     "execution_count": 16,
     "metadata": {},
     "output_type": "execute_result"
    }
   ],
   "source": [
    "temperature > 25"
   ]
  },
  {
   "cell_type": "code",
   "execution_count": 18,
   "metadata": {},
   "outputs": [
    {
     "data": {
      "text/plain": [
       "True"
      ]
     },
     "execution_count": 18,
     "metadata": {},
     "output_type": "execute_result"
    }
   ],
   "source": [
    "weather == 'rain'"
   ]
  },
  {
   "cell_type": "code",
   "execution_count": 19,
   "metadata": {},
   "outputs": [
    {
     "data": {
      "text/plain": [
       "False"
      ]
     },
     "execution_count": 19,
     "metadata": {},
     "output_type": "execute_result"
    }
   ],
   "source": [
    "weather == 'sunny'"
   ]
  },
  {
   "cell_type": "code",
   "execution_count": 21,
   "metadata": {},
   "outputs": [
    {
     "data": {
      "text/plain": [
       "bool"
      ]
     },
     "execution_count": 21,
     "metadata": {},
     "output_type": "execute_result"
    }
   ],
   "source": [
    "type(weather == 'rain')"
   ]
  },
  {
   "cell_type": "markdown",
   "metadata": {},
   "source": [
    "### if, elif and else"
   ]
  },
  {
   "cell_type": "code",
   "execution_count": 22,
   "metadata": {},
   "outputs": [],
   "source": [
    "temperature = -3"
   ]
  },
  {
   "cell_type": "code",
   "execution_count": 24,
   "metadata": {},
   "outputs": [
    {
     "name": "stdout",
     "output_type": "stream",
     "text": [
      "temperature is below freezing\n"
     ]
    }
   ],
   "source": [
    "if temperature > 0:\n",
    "    print('temperature is above freezing')\n",
    "elif temperature == 0:\n",
    "    print('temperature is freezing')\n",
    "else:\n",
    "    print('temperature is below freezing')"
   ]
  },
  {
   "cell_type": "code",
   "execution_count": 25,
   "metadata": {},
   "outputs": [],
   "source": [
    "yesterday = 14\n",
    "today = 10\n",
    "tomorrow = 13"
   ]
  },
  {
   "cell_type": "code",
   "execution_count": 26,
   "metadata": {},
   "outputs": [
    {
     "name": "stdout",
     "output_type": "stream",
     "text": [
      "B\n"
     ]
    }
   ],
   "source": [
    "if yesterday <= today:\n",
    "    print('A')\n",
    "elif today != tomorrow:\n",
    "    print('B')\n",
    "elif yesterday > tomorrow:\n",
    "    print('C')\n",
    "elif today == today:\n",
    "    print('D')"
   ]
  },
  {
   "cell_type": "code",
   "execution_count": 27,
   "metadata": {},
   "outputs": [
    {
     "name": "stdout",
     "output_type": "stream",
     "text": [
      "B\n",
      "C\n",
      "D\n"
     ]
    }
   ],
   "source": [
    "if yesterday <= today:\n",
    "    print('A')\n",
    "if today != tomorrow:\n",
    "    print('B')\n",
    "if yesterday > tomorrow:\n",
    "    print('C')\n",
    "if today == today:\n",
    "    print('D')"
   ]
  },
  {
   "cell_type": "markdown",
   "metadata": {},
   "source": [
    "Combining Conditions"
   ]
  },
  {
   "cell_type": "markdown",
   "metadata": {},
   "source": [
    "##We can use and and or to combine multipl conditions on Boolean Values\n",
    "and a and b True if both a and b are True\n",
    "or a or b  True if either a or b is True"
   ]
  },
  {
   "cell_type": "code",
   "execution_count": 33,
   "metadata": {},
   "outputs": [
    {
     "name": "stdout",
     "output_type": "stream",
     "text": [
      "At least one part is true\n"
     ]
    }
   ],
   "source": [
    "if (1<0) and (-1<0):\n",
    "    print('Both parts are true')\n",
    "else:\n",
    "    print('At least one part is true')"
   ]
  },
  {
   "cell_type": "code",
   "execution_count": 34,
   "metadata": {},
   "outputs": [
    {
     "name": "stdout",
     "output_type": "stream",
     "text": [
      "Both are not true\n"
     ]
    }
   ],
   "source": [
    "if (1<0) or (-1>0):\n",
    "    print('At least one test is true')\n",
    "else:\n",
    "    print('Both are not true')"
   ]
  },
  {
   "cell_type": "code",
   "execution_count": 35,
   "metadata": {},
   "outputs": [
    {
     "name": "stdout",
     "output_type": "stream",
     "text": [
      "Both parts are true\n"
     ]
    }
   ],
   "source": [
    "if (1>0) and (-1<0):\n",
    "    print('Both parts are true')\n",
    "else:\n",
    "    print('At least one part is true')"
   ]
  },
  {
   "cell_type": "code",
   "execution_count": 55,
   "metadata": {},
   "outputs": [],
   "source": [
    "weather = 'sunny'\n",
    "wind_speed = 5"
   ]
  },
  {
   "cell_type": "code",
   "execution_count": 57,
   "metadata": {},
   "outputs": [
    {
     "name": "stdout",
     "output_type": "stream",
     "text": [
      "Go out and enjoy the weather\n"
     ]
    }
   ],
   "source": [
    "if (weather == 'rain') or (wind_speed > 8):\n",
    "    print('Stay at home')\n",
    "else:\n",
    "    print('Go out and enjoy the weather')"
   ]
  },
  {
   "cell_type": "code",
   "execution_count": 58,
   "metadata": {},
   "outputs": [
    {
     "name": "stdout",
     "output_type": "stream",
     "text": [
      "Stay safe\n"
     ]
    }
   ],
   "source": [
    "if (weather == 'rain') or (wind_speed > 8):\n",
    "    print('Stay at home')\n",
    "elif (wind_speed == 5):\n",
    "    print('Stay safe')\n",
    "else:\n",
    "    print('Go out and enjoy the weather')"
   ]
  },
  {
   "cell_type": "markdown",
   "metadata": {},
   "source": [
    "### Combining for Loop and Conditional Statement"
   ]
  },
  {
   "cell_type": "code",
   "execution_count": 59,
   "metadata": {},
   "outputs": [],
   "source": [
    "temperature = [0, 12, 17, 28, 30]"
   ]
  },
  {
   "cell_type": "code",
   "execution_count": 65,
   "metadata": {},
   "outputs": [
    {
     "name": "stdout",
     "output_type": "stream",
     "text": [
      "0 celsius degree is not hot\n",
      "12 celsius degree is not hot\n",
      "17 celsius degree is not hot\n",
      "28 celsius degree is hot\n",
      "30 celsius degree is hot\n"
     ]
    }
   ],
   "source": [
    "for i in temperature:\n",
    "    if i > 25:\n",
    "        print(i, 'celsius degree is hot')\n",
    "    else:\n",
    "        print(i,'celsius degree is not hot')"
   ]
  },
  {
   "cell_type": "code",
   "execution_count": null,
   "metadata": {},
   "outputs": [],
   "source": []
  }
 ],
 "metadata": {
  "kernelspec": {
   "display_name": "Python 3",
   "language": "python",
   "name": "python3"
  },
  "language_info": {
   "codemirror_mode": {
    "name": "ipython",
    "version": 3
   },
   "file_extension": ".py",
   "mimetype": "text/x-python",
   "name": "python",
   "nbconvert_exporter": "python",
   "pygments_lexer": "ipython3",
   "version": "3.8.3"
  }
 },
 "nbformat": 4,
 "nbformat_minor": 4
}
